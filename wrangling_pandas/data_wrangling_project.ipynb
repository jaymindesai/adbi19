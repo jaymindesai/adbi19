{
 "cells": [
  {
   "cell_type": "markdown",
   "metadata": {
    "hideCode": true,
    "hidePrompt": true
   },
   "source": [
    "## Project: Data Wrangling using Pandas and Regex\n",
    "\n",
    "In this project you are asked __to implement__ and __perform a unit testing__ for a series of Python functions (Q1-Q13) that are typically required during the ***data wrangling*** phase of the end-to-end data science pipeline. A subset of unit testing functions is provided for you. You are expected to write unit testing for all the remaining functions.\n",
    "\n",
    "__Data Wrangling consists of the following main steps:__\n",
    "\n",
    "* Data Acquisition\n",
    "* Data Cleansing\n",
    "* Data Understanding: Basics\n",
    "* Data Manipulation\n",
    "  \n",
    "  \n",
    "__1. Data Acquisition Objectives__\n",
    "\n",
    "* Question 1: How to import multiples files for storage and access? (store filenames in array)\n",
    "* Question 2: How to import data in different formats? (read_excel, read_csv)\n",
    "* Question 2: How are they read into by pandas? (DataFrame)\n",
    "* Question 4: How to have a peek at the data after import? (head/tail)\n",
    "\n",
    "__2. Data Cleansing Objectives__\n",
    "\n",
    "* Question 5: Check attributes of each file\n",
    "* Question 5: Identify data types\n",
    "* Question 5: Apply coercion if applicable\n",
    "* Question 5: Check for NA/missing data\n",
    "* Question 6: Remove/replace corrupt data\n",
    "* Question 6: Identify duplicate data\n",
    "* Question 6: Check for corrupt/incorrect data  \n",
    "\n",
    "* Check for data consistency (e.g. GPA cannot be less than 0)\n",
    "* Identifying and removing outliers\n",
    "\n",
    "__3. Data Understanding Objectives__\n",
    "\n",
    "* Question 7: Basic Summary Statistics\n",
    "* Question 9: Dimensionality\n",
    "\n",
    "__4. Data Manipulation Objectives__\n",
    "\n",
    "* Question 11: Merge/Concatenate DataFrame\n",
    "* Question 11: Mapping to create a new attribute\n",
    "* Question 11: Incorporate the use of multiple functions\n",
    "* Question 12: Filter to subset the data\n",
    "* Question 13: Discretize data \n",
    "  \n",
    "  \n",
    "__Regular Expressions:__ *Regular expressions are used in conjunction with other preprocessing steps for matching/parsing patterns.*\n",
    "\n",
    "* Questions 2/5/6: Filter to subset the dataUse regular expressions to find/match specific content\n",
    "* Question 6: Filter to subset the dataString manipulation via. substring and replace methods"
   ]
  },
  {
   "cell_type": "markdown",
   "metadata": {
    "hideCode": true,
    "hidePrompt": true
   },
   "source": [
    "## Install Required Packages\n",
    "\n",
    "If you do not have Anaconda installed, then you may need to install the following packages using the following commands (Note: If you have Anaconda installed, then you already have Pandas and `regex`):\n",
    "\n",
    "> pip3 install pandas  \n",
    "  \n",
    "> pip3 install regex\n",
    "\n",
    "## INSTRUCTIONS: In all the functions, remove the `pass` statement and write your code."
   ]
  },
  {
   "cell_type": "code",
   "execution_count": 10,
   "metadata": {
    "hideCode": false,
    "hidePrompt": true
   },
   "outputs": [],
   "source": [
    "import warnings\n",
    "import pandas as pd\n",
    "import re\n",
    "import glob\n",
    "import copy\n",
    "\n",
    "%matplotlib inline\n",
    "import matplotlib.pyplot as plt"
   ]
  },
  {
   "cell_type": "markdown",
   "metadata": {
    "hideCode": false,
    "hidePrompt": true
   },
   "source": [
    "### __Question 1: Write a function to import all excel file names into a list.__\n",
    "\n",
    "_Hint: Use the glob module._"
   ]
  },
  {
   "cell_type": "code",
   "execution_count": 11,
   "metadata": {
    "hideCode": false,
    "hidePrompt": true
   },
   "outputs": [
    {
     "name": "stdout",
     "output_type": "stream",
     "text": [
      "['Python-QUIZ Taxonomy of Python Data Structures (12 min.)-grades.xlsx', 'Python-QUIZ Functions (18 min.)-grades.xlsx', 'Python-QUIZ Coercion (6 min.)-grades.xlsx', 'Python-QUIZ Strings (5 min.)-grades.xlsx', 'Python-QUIZ Lists (10 min.)-grades.xlsx', 'Python-QUIZ Iterations (6 min.)-grades.xlsx', 'Python-QUIZ Sets (7 min)-grades.xlsx', 'Python-QUIZ Exceptions (10 min.)-grades.xlsx', 'Python-QUIZ Dictionaries (10 min.)-grades.xlsx', 'Python-QUIZ Tuples (10 min.)-grades.xlsx', 'Python-QUIZ Conditionals (6 min.)-grades.xlsx']\n"
     ]
    }
   ],
   "source": [
    "def Q1_function():\n",
    "    \"\"\"\n",
    "    :type : None\n",
    "    :rtype: List[String]\n",
    "    \"\"\"\n",
    "    files = glob.glob('./data_raw/Python*.xlsx')\n",
    "    return list(map(lambda f: f.strip('./data_raw'), files))\n",
    "\n",
    "\n",
    "# Call the function and print the result. This result is used in subsequent questions.\n",
    "filenames = Q1_function()\n",
    "print(filenames)"
   ]
  },
  {
   "cell_type": "markdown",
   "metadata": {
    "hideCode": false,
    "hidePrompt": true
   },
   "source": [
    "### __Question 2: Write a function to return the name of the excel file based on a given string. *(The string is defined for you)*__  \n",
    "*Hints: Use the following.*\n",
    "* Regex 're.search' function.\n",
    "* Pandas function 'read_excel'"
   ]
  },
  {
   "cell_type": "code",
   "execution_count": 12,
   "metadata": {
    "hideCode": false,
    "hidePrompt": true
   },
   "outputs": [
    {
     "name": "stdout",
     "output_type": "stream",
     "text": [
      "Python-QUIZ Dictionaries (10 min.)-grades.xlsx\n"
     ]
    }
   ],
   "source": [
    "def Q2_function(files, s):\n",
    "    \"\"\"\n",
    "    :type : List[String], String\n",
    "    :rtype: String\n",
    "    \"\"\"\n",
    "    for file in files:\n",
    "        if re.search(s, file):\n",
    "            return file\n",
    "        \n",
    "\n",
    "# Call the function and print the result. Use this to check the correctness of your code and for debugging.\n",
    "file = Q2_function(filenames, s = \"Dictionaries\")\n",
    "print(file)"
   ]
  },
  {
   "cell_type": "markdown",
   "metadata": {
    "hideCode": false,
    "hidePrompt": true
   },
   "source": [
    "### __Question 3: Write a function to load the \"Functions\" excel file into a Pandas DataFrame.__  \n",
    "*Hint: Remember you have executed functions in Questions 1 and 2. Try using them here. You can save some coding time!*  \n",
    "* Use the result from Question 1.\n",
    "* Use the function written in Question 2.\n",
    "* Use the Pandas function 'read_excel' to import an excel file."
   ]
  },
  {
   "cell_type": "code",
   "execution_count": 13,
   "metadata": {
    "hideCode": false,
    "hidePrompt": true
   },
   "outputs": [
    {
     "name": "stdout",
     "output_type": "stream",
     "text": [
      "       State                Started on                 Completed  \\\n",
      "0   Finished  February 5 2018  3:19 PM  February 5 2018  3:34 PM   \n",
      "1   Finished  February 4 2018  4:01 PM  February 4 2018  4:19 PM   \n",
      "12  Finished  February 6 2018  3:57 PM  February 6 2018  4:12 PM   \n",
      "\n",
      "         Time taken  Grade/45.00  Q. 1 /5.00  Q. 2 /10.00  Q. 3 /6.00  \\\n",
      "0   14 mins 16 secs           32           5            6           6   \n",
      "1   17 mins 54 secs           31           5            8           6   \n",
      "12  15 mins 44 secs           20           3            4           3   \n",
      "\n",
      "   Q. 4 /6.00 Q. 5 /12.00 Q. 6 /6.00  id  \n",
      "0        3.00       12.00       0.00   0  \n",
      "1           -       12.00       0.00   1  \n",
      "12          -       10.00       0.00  12  \n"
     ]
    }
   ],
   "source": [
    "def Q3_function(files, s):\n",
    "    warnings.simplefilter(\"ignore\")\n",
    "    \"\"\"\n",
    "    :type : List[String], String\n",
    "    :rtype: Pandas DataFrame\n",
    "    \"\"\"\n",
    "    file = Q2_function(files, s)\n",
    "    return pd.read_excel('./data_raw/{}'.format(file))\n",
    "\n",
    "\n",
    "# Call the function and print the result. This result is used in subsequent questions.\n",
    "functions_df = Q3_function(filenames, s = \"Functions\")\n",
    "# print(functions_df)\n",
    "print(functions_df.head(3))"
   ]
  },
  {
   "cell_type": "markdown",
   "metadata": {
    "hideCode": false,
    "hidePrompt": true
   },
   "source": [
    "### __Question 4: Using the output obtained in Question 3 as input for the current question, write a function to do the following.__  \n",
    "* Find all the names of the columns and return as a list.\n",
    "* Find the subset of the DataFrame (use `df.loc`) and return the new DataFrame. Include the following columns:   \n",
    "_\"id\", \"Time taken\", \"Grade/45.00\", \"Q. 1 /5.00\", \"Q. 2 /10.00\", \"Q. 3 /6.00\", \"Q. 4 /6.00\", \"Q. 5 /12.00\", \"Q. 6 /6.00\"_\n",
    "* Return the top 10 rows (use `df.head function`).\n",
    "\n",
    "Learn about returning multiple values in Python."
   ]
  },
  {
   "cell_type": "code",
   "execution_count": 14,
   "metadata": {
    "hideCode": false,
    "hidePrompt": true,
    "scrolled": true
   },
   "outputs": [
    {
     "name": "stdout",
     "output_type": "stream",
     "text": [
      "Column Names\n",
      "['State', 'Started on', 'Completed', 'Time taken', 'Grade/45.00', 'Q. 1 /5.00', 'Q. 2 /10.00', 'Q. 3 /6.00', 'Q. 4 /6.00', 'Q. 5 /12.00', 'Q. 6 /6.00', 'id']\n",
      "\n",
      "Subsetted Data\n",
      "    id       Time taken  Grade/45.00  Q. 1 /5.00  Q. 2 /10.00  Q. 3 /6.00  \\\n",
      "0    0  14 mins 16 secs           32           5            6           6   \n",
      "1    1  17 mins 54 secs           31           5            8           6   \n",
      "12  12  15 mins 44 secs           20           3            4           3   \n",
      "2    2          18 mins           30           5            6           6   \n",
      "3    3  17 mins 31 secs           26           5            6           6   \n",
      "4    4  17 mins 59 secs           25           5            6           6   \n",
      "5    5          18 mins           24           5            6           6   \n",
      "6    6          18 mins           23           5            6           0   \n",
      "7    7    18 mins 1 sec           23           4            4           6   \n",
      "8    8  16 mins 44 secs           22           4            4           6   \n",
      "9    9    18 mins 1 sec           22           5            8           6   \n",
      "10  10          18 mins           21           5           10           6   \n",
      "4    4  17 mins 59 secs           25           5            6           6   \n",
      "5    5          18 mins           24           5            6           6   \n",
      "11  11  12 mins 59 secs           21           4            4           3   \n",
      "12  12  15 mins 44 secs           20           3            4           3   \n",
      "13  13    18 mins 1 sec           17           4            4           6   \n",
      "14  14          18 mins           17           5            4           3   \n",
      "15  15    18 mins 1 sec           16           3            6           3   \n",
      "6    6          18 mins           23           5            6           0   \n",
      "16  16  48 mins 39 secs           15           4            2           3   \n",
      "17  17    18 mins 1 sec           13           3            4           6   \n",
      "18  18  14 mins 31 secs           13           3            4           6   \n",
      "8    8  16 mins 44 secs           22           4            4           6   \n",
      "\n",
      "   Q. 4 /6.00 Q. 5 /12.00 Q. 6 /6.00  \n",
      "0        3.00       12.00       0.00  \n",
      "1           -       12.00       0.00  \n",
      "12          -       10.00       0.00  \n",
      "2        3.00       10.00          -  \n",
      "3        3.00        6.00       0.00  \n",
      "4        6.00        2.00       0.00  \n",
      "5        3.00        4.00          -  \n",
      "6        0.00        6.00       6.00  \n",
      "7        3.00        6.00       0.00  \n",
      "8        0.00        8.00       0.00  \n",
      "9        3.00           -          -  \n",
      "10          -           -          -  \n",
      "4        6.00        2.00       0.00  \n",
      "5        3.00        4.00          -  \n",
      "11       0.00        4.00       6.00  \n",
      "12          -       10.00       0.00  \n",
      "13       3.00        0.00          -  \n",
      "14       3.00        2.00       0.00  \n",
      "15       0.00        4.00          -  \n",
      "6        0.00        6.00       6.00  \n",
      "16       0.00        6.00       0.00  \n",
      "17          -           -          -  \n",
      "18       0.00        0.00       0.00  \n",
      "8        0.00        8.00       0.00  \n",
      "\n",
      "Top 10 Rows\n",
      "    id       Time taken  Grade/45.00  Q. 1 /5.00  Q. 2 /10.00  Q. 3 /6.00  \\\n",
      "0    0  14 mins 16 secs           32           5            6           6   \n",
      "1    1  17 mins 54 secs           31           5            8           6   \n",
      "12  12  15 mins 44 secs           20           3            4           3   \n",
      "2    2          18 mins           30           5            6           6   \n",
      "3    3  17 mins 31 secs           26           5            6           6   \n",
      "4    4  17 mins 59 secs           25           5            6           6   \n",
      "5    5          18 mins           24           5            6           6   \n",
      "6    6          18 mins           23           5            6           0   \n",
      "7    7    18 mins 1 sec           23           4            4           6   \n",
      "8    8  16 mins 44 secs           22           4            4           6   \n",
      "\n",
      "   Q. 4 /6.00 Q. 5 /12.00 Q. 6 /6.00  \n",
      "0        3.00       12.00       0.00  \n",
      "1           -       12.00       0.00  \n",
      "12          -       10.00       0.00  \n",
      "2        3.00       10.00          -  \n",
      "3        3.00        6.00       0.00  \n",
      "4        6.00        2.00       0.00  \n",
      "5        3.00        4.00          -  \n",
      "6        0.00        6.00       6.00  \n",
      "7        3.00        6.00       0.00  \n",
      "8        0.00        8.00       0.00  \n"
     ]
    }
   ],
   "source": [
    "def Q4_function(dataframe):\n",
    "    \"\"\"\n",
    "    :type : DataFrame\n",
    "    :rtype: [String], DataFrame, DataFrame\n",
    "    \"\"\"\n",
    "    names = list(dataframe.columns)\n",
    "    df_subset = dataframe.loc[:,[\"id\", \"Time taken\", \"Grade/45.00\", \"Q. 1 /5.00\", \"Q. 2 /10.00\", \n",
    "                                 \"Q. 3 /6.00\", \"Q. 4 /6.00\", \"Q. 5 /12.00\", \"Q. 6 /6.00\"]]\n",
    "    top_10 = df_subset.head(10)\n",
    "    \n",
    "    return names, df_subset, top_10\n",
    "\n",
    "\n",
    "# Call the function and print the results. These results are used in subsequent questions.\n",
    "names, df_subset, top_10 = Q4_function(functions_df)\n",
    "\n",
    "print(\"Column Names\")\n",
    "print(names)\n",
    "print()\n",
    "print(\"Subsetted Data\")\n",
    "print(df_subset)\n",
    "print()\n",
    "print(\"Top 10 Rows\")\n",
    "print(top_10)"
   ]
  },
  {
   "cell_type": "markdown",
   "metadata": {
    "hideCode": false,
    "hidePrompt": true
   },
   "source": [
    "### Question 5: Using the subsetted DataFrame from the previous question, complete the following tasks.\n",
    "\n",
    "* Identify the data type of every column. Return as a list. *(read about dtypes)*\n",
    "* Strip all white spaces from the columns. \n",
    "    + try using list comprehension along with the 'sub' function in 're' module\n",
    "* Check if 'Time taken' column has NA or empty values:\n",
    "    + use `df.isnull().any()`. \n",
    "    + If YES, replace with 0: use `df.fillna()`.\n",
    "* Using `regex` (`re.search`), convert the 'Time taken' column into seconds (int) and store in a new column called 'time' (e.g., convert __2 mins 10 secs__ into __130__. Note that to get 130, you need to do some math. Use coersion to convert str to int.\n",
    "* Return the DataFrame with 'Time taken' column dropped."
   ]
  },
  {
   "cell_type": "code",
   "execution_count": 15,
   "metadata": {
    "hideCode": false,
    "hidePrompt": true
   },
   "outputs": [
    {
     "name": "stdout",
     "output_type": "stream",
     "text": [
      "Column Datatypes\n",
      "[dtype('int64'), dtype('O'), dtype('int64'), dtype('int64'), dtype('int64'), dtype('int64'), dtype('O'), dtype('O'), dtype('O')]\n",
      "\n",
      "New Update DataFrame\n",
      "    id  time  Grade/45.00  Q.1/5.00  Q.2/10.00  Q.3/6.00 Q.4/6.00 Q.5/12.00  \\\n",
      "0    0   856           32         5          6         6     3.00     12.00   \n",
      "1    1  1074           31         5          8         6        -     12.00   \n",
      "12  12   944           20         3          4         3        -     10.00   \n",
      "2    2  1080           30         5          6         6     3.00     10.00   \n",
      "3    3  1051           26         5          6         6     3.00      6.00   \n",
      "4    4  1079           25         5          6         6     6.00      2.00   \n",
      "5    5  1080           24         5          6         6     3.00      4.00   \n",
      "6    6  1080           23         5          6         0     0.00      6.00   \n",
      "7    7  1081           23         4          4         6     3.00      6.00   \n",
      "8    8  1004           22         4          4         6     0.00      8.00   \n",
      "9    9  1081           22         5          8         6     3.00         -   \n",
      "10  10  1080           21         5         10         6        -         -   \n",
      "4    4  1079           25         5          6         6     6.00      2.00   \n",
      "5    5  1080           24         5          6         6     3.00      4.00   \n",
      "11  11   779           21         4          4         3     0.00      4.00   \n",
      "12  12   944           20         3          4         3        -     10.00   \n",
      "13  13  1081           17         4          4         6     3.00      0.00   \n",
      "14  14  1080           17         5          4         3     3.00      2.00   \n",
      "15  15  1081           16         3          6         3     0.00      4.00   \n",
      "6    6  1080           23         5          6         0     0.00      6.00   \n",
      "16  16  2919           15         4          2         3     0.00      6.00   \n",
      "17  17  1081           13         3          4         6        -         -   \n",
      "18  18   871           13         3          4         6     0.00      0.00   \n",
      "8    8  1004           22         4          4         6     0.00      8.00   \n",
      "\n",
      "   Q.6/6.00  \n",
      "0      0.00  \n",
      "1      0.00  \n",
      "12     0.00  \n",
      "2         -  \n",
      "3      0.00  \n",
      "4      0.00  \n",
      "5         -  \n",
      "6      6.00  \n",
      "7      0.00  \n",
      "8      0.00  \n",
      "9         -  \n",
      "10        -  \n",
      "4      0.00  \n",
      "5         -  \n",
      "11     6.00  \n",
      "12     0.00  \n",
      "13        -  \n",
      "14     0.00  \n",
      "15        -  \n",
      "6      6.00  \n",
      "16     0.00  \n",
      "17        -  \n",
      "18     0.00  \n",
      "8      0.00  \n"
     ]
    }
   ],
   "source": [
    "def Q5_function(df):\n",
    "    \n",
    "    \"\"\"\n",
    "    :type : DataFrame\n",
    "    :rtype: [String], DataFrame\n",
    "    \"\"\"\n",
    "    column_types = list(df.dtypes.values)\n",
    "    df.columns = [re.sub(' ', '', c) for c in df.columns]\n",
    "    \n",
    "    df['Timetaken'].fillna(0)\n",
    "    times = []\n",
    "    for v in df['Timetaken'].values:\n",
    "        mins = re.search(r\"(\\d+)(\\s+)mins?\", v)\n",
    "        secs = re.search(r\"(\\d+)(\\s+)secs?\", v)\n",
    "        mins = mins and int(mins.group(1))*60 or 0\n",
    "        secs = secs and int(secs.group(1)) or 0\n",
    "        times.append(mins + secs)    \n",
    "    df['Timetaken'] = times\n",
    "    df.rename(columns={'Timetaken':'time'}, inplace=True)\n",
    "    \n",
    "    return column_types, df\n",
    "\n",
    "# Call the function and print the results. These results are used in subsequent questions.\n",
    "column_types, Q5_df = Q5_function(df_subset)\n",
    "print(\"Column Datatypes\")\n",
    "print(column_types)\n",
    "print()\n",
    "print(\"New Update DataFrame\")\n",
    "print(Q5_df)"
   ]
  },
  {
   "cell_type": "markdown",
   "metadata": {
    "hideCode": false,
    "hidePrompt": true
   },
   "source": [
    "### Question 6: Using the returned DataFrame from the previous question, complete the following tasks.\n",
    "\n",
    "* Some columns might need to be converted to integer for the subsequent tasks. Identify which columns and convert them to int/float.\n",
    "* Are there any duplicate rows? Remove them from the DataFrame.\n",
    "* Data collected might be corrupt. Check whether data is missing or corrupt. Data is missing if there is a '-'. If missing data exists, replace with the mean of other values.\n",
    "* With the above point in mind, find the mean values of all columns except 'id'. Append these as a row to your dataframe and return\n",
    "\n",
    "*Hint: Note that the maximum marks for each column is different. Make sure you parse the information from the column name.*"
   ]
  },
  {
   "cell_type": "code",
   "execution_count": 16,
   "metadata": {
    "hideCode": false,
    "hidePrompt": true
   },
   "outputs": [
    {
     "name": "stdout",
     "output_type": "stream",
     "text": [
      "    id         time  Grade/45.00  Q.1/5.00  Q.2/10.00  Q.3/6.00  Q.4/6.00  \\\n",
      "0    0   856.000000    32.000000  5.000000   6.000000  6.000000       3.0   \n",
      "1    1  1074.000000    31.000000  5.000000   8.000000  6.000000       2.0   \n",
      "12  12   944.000000    20.000000  3.000000   4.000000  3.000000       2.0   \n",
      "2    2  1080.000000    30.000000  5.000000   6.000000  6.000000       3.0   \n",
      "3    3  1051.000000    26.000000  5.000000   6.000000  6.000000       3.0   \n",
      "4    4  1079.000000    25.000000  5.000000   6.000000  6.000000       6.0   \n",
      "5    5  1080.000000    24.000000  5.000000   6.000000  6.000000       3.0   \n",
      "6    6  1080.000000    23.000000  5.000000   6.000000  0.000000       0.0   \n",
      "7    7  1081.000000    23.000000  4.000000   4.000000  6.000000       3.0   \n",
      "8    8  1004.000000    22.000000  4.000000   4.000000  6.000000       0.0   \n",
      "9    9  1081.000000    22.000000  5.000000   8.000000  6.000000       3.0   \n",
      "10  10  1080.000000    21.000000  5.000000  10.000000  6.000000       2.0   \n",
      "11  11   779.000000    21.000000  4.000000   4.000000  3.000000       0.0   \n",
      "13  13  1081.000000    17.000000  4.000000   4.000000  6.000000       3.0   \n",
      "14  14  1080.000000    17.000000  5.000000   4.000000  3.000000       3.0   \n",
      "15  15  1081.000000    16.000000  3.000000   6.000000  3.000000       0.0   \n",
      "16  16  2919.000000    15.000000  4.000000   2.000000  3.000000       0.0   \n",
      "17  17  1081.000000    13.000000  3.000000   4.000000  6.000000       2.0   \n",
      "18  18   871.000000    13.000000  3.000000   4.000000  6.000000       0.0   \n",
      "19  19  1125.368421    21.631579  4.315789   5.368421  4.894737       2.0   \n",
      "\n",
      "    Q.5/12.00  Q.6/6.00  \n",
      "0       12.00       0.0  \n",
      "1       12.00       0.0  \n",
      "12      10.00       0.0  \n",
      "2       10.00       1.0  \n",
      "3        6.00       0.0  \n",
      "4        2.00       0.0  \n",
      "5        4.00       1.0  \n",
      "6        6.00       6.0  \n",
      "7        6.00       0.0  \n",
      "8        8.00       0.0  \n",
      "9        5.75       1.0  \n",
      "10       5.75       1.0  \n",
      "11       4.00       6.0  \n",
      "13       0.00       1.0  \n",
      "14       2.00       0.0  \n",
      "15       4.00       1.0  \n",
      "16       6.00       0.0  \n",
      "17       5.75       1.0  \n",
      "18       0.00       0.0  \n",
      "19       5.75       1.0  \n"
     ]
    }
   ],
   "source": [
    "def Q6_function(df):\n",
    "    warnings.simplefilter(\"ignore\")\n",
    "    \"\"\"\n",
    "    :type : DataFrame\n",
    "    :rtype: DataFrame\n",
    "    \"\"\"\n",
    "    df = df.convert_objects(convert_numeric=True)\n",
    "    \n",
    "    df.drop_duplicates(inplace=True)\n",
    "    \n",
    "    df = df.astype('float')\n",
    "    \n",
    "    df.fillna(df.mean(), inplace=True)\n",
    "    \n",
    "    new_id = df['id'].max() + 1\n",
    "    df.loc[new_id, 1:] = df.mean()\n",
    "    df.loc[new_id, 0:1] = new_id\n",
    "    df = df.astype({'id':int})\n",
    "    \n",
    "    return df\n",
    "\n",
    "# Call the function and print the results.\n",
    "Q6_df = Q6_function(Q5_df)\n",
    "print(Q6_df)"
   ]
  },
  {
   "cell_type": "markdown",
   "metadata": {
    "hideCode": false,
    "hidePrompt": true
   },
   "source": [
    "### Question 7: Use previously created functions to load the 'Exceptions' dataset as a dataframe\n",
    "\n",
    "* Calculate the mean of the total grade obtained by the students.\n",
    "* Calculate the standard deviation of the total grade obtained by the students.\n",
    "* Calculate Q1,Q2 and Q3 (quantiles) for the total grade.\n",
    "* Find the maximum and minimum values for the total grade\n",
    "\n",
    "* Return all values rounded to 2 decimal places\n",
    "\n",
    "*Hint: Use the df.describe function*"
   ]
  },
  {
   "cell_type": "code",
   "execution_count": 17,
   "metadata": {
    "hideCode": false,
    "hidePrompt": true
   },
   "outputs": [
    {
     "name": "stdout",
     "output_type": "stream",
     "text": [
      "Mean: 14.83\n",
      "Std. Dev.: 2.19\n",
      "First Quantile 13.46\n",
      "Second Quantile 14.66\n",
      "Third Quantile 16.62\n",
      "Max: 18.5\n",
      "Min: 10.83\n"
     ]
    }
   ],
   "source": [
    "def Q7_function(file):\n",
    "    \"\"\"\n",
    "    :type : String\n",
    "    :rtype: Float\n",
    "    \"\"\"\n",
    "    df = Q3_function(filenames, file)\n",
    "    stats = df['Grade/21.00'].describe().apply(lambda val: round(val, 2))\n",
    "    return stats['mean'], stats['std'], stats['25%'], stats['50%'], stats['75%'], stats['max'], stats['min']\n",
    "    \n",
    "\n",
    "# Call the function and print the results.\n",
    "mean_,std_,q1,q2,q3,max_,min_ = Q7_function(file=\"Exceptions\")\n",
    "print(\"Mean:\", mean_)\n",
    "print(\"Std. Dev.:\", std_)\n",
    "print(\"First Quantile\", q1)\n",
    "print(\"Second Quantile\", q2)\n",
    "print(\"Third Quantile\", q3)\n",
    "print(\"Max:\", max_)\n",
    "print(\"Min:\", min_)"
   ]
  },
  {
   "cell_type": "markdown",
   "metadata": {
    "hideCode": false,
    "hidePrompt": true
   },
   "source": [
    "### Question 8: Create a boxplot of the grade distribution in the 'Exceptions' dataset.\n",
    "\n",
    "* Compare the plot lines to the values calculated in the previous question.\n",
    "* Use df.plot.box function."
   ]
  },
  {
   "cell_type": "code",
   "execution_count": 18,
   "metadata": {
    "hideCode": false,
    "hidePrompt": true,
    "scrolled": true
   },
   "outputs": [
    {
     "data": {
      "text/plain": [
       "<matplotlib.axes._subplots.AxesSubplot at 0x11a0dc198>"
      ]
     },
     "execution_count": 18,
     "metadata": {},
     "output_type": "execute_result"
    },
    {
     "data": {
      "image/png": "[encoded data removed]",
      "text/plain": [
       "<Figure size 432x288 with 1 Axes>"
      ]
     },
     "metadata": {
      "needs_background": "light"
     },
     "output_type": "display_data"
    }
   ],
   "source": [
    "def Q8_function(file):\n",
    "    \n",
    "    \"\"\"\n",
    "    :type : String\n",
    "    :rtype: Plot\n",
    "    \"\"\"\n",
    "    \n",
    "    df = Q3_function(filenames, file)\n",
    "    Q8_plot = df[['Grade/21.00']].plot.box(return_type='axes')\n",
    "    \n",
    "    return Q8_plot\n",
    "\n",
    "\n",
    "# Call the function. Plot will display.\n",
    "Q8_function(file='Exceptions')"
   ]
  },
  {
   "cell_type": "markdown",
   "metadata": {
    "hideCode": false,
    "hidePrompt": true
   },
   "source": [
    "### Question 9: Return the number of rows and columns present in the 'Strings' dataset\n",
    "\n",
    "* Use the `df.shape` attribute."
   ]
  },
  {
   "cell_type": "code",
   "execution_count": 19,
   "metadata": {
    "hideCode": false,
    "hidePrompt": true
   },
   "outputs": [
    {
     "name": "stdout",
     "output_type": "stream",
     "text": [
      "Rows: 17\n",
      "Columns: 7\n"
     ]
    }
   ],
   "source": [
    "def Q9_function(file):\n",
    "    \n",
    "    \"\"\"\n",
    "    :type : String\n",
    "    :rtype: list\n",
    "    \"\"\" \n",
    "    return Q3_function(filenames, file).shape\n",
    "\n",
    "\n",
    "# Call the function and print the results\n",
    "rows, columns = Q9_function (file='Strings')\n",
    "print(\"Rows:\",rows)\n",
    "print(\"Columns:\",columns)"
   ]
  },
  {
   "cell_type": "markdown",
   "metadata": {
    "hideCode": false,
    "hidePrompt": true
   },
   "source": [
    "### Question 10: Use the output from Question 5. Group the students based on their score in 'Q. 5 /12.00' column\n",
    "\n",
    "* Which students scored 0 \n",
    "* How many students achieved the maximum possible score\n",
    "* Consider NA/missing values as 0\n",
    "\n",
    "*Hint : Use groupby function.*\n"
   ]
  },
  {
   "cell_type": "code",
   "execution_count": 20,
   "metadata": {
    "hideCode": false,
    "hidePrompt": true
   },
   "outputs": [
    {
     "name": "stdout",
     "output_type": "stream",
     "text": [
      "Students scoring zero : [9, 10, 13, 17, 18]\n",
      "Number of students with maximum score : 2\n"
     ]
    }
   ],
   "source": [
    "def Q10_function(df):\n",
    "    \n",
    "    \"\"\"\n",
    "    :type : DataFrame\n",
    "    :rtype: list, int\n",
    "    \"\"\"\n",
    "    COL = 'Q.5/12.00'\n",
    "    \n",
    "    df.drop_duplicates(inplace=True)\n",
    "    df[COL] = df[COL].apply(lambda val: 0 if val == '-' else val).astype('float')\n",
    "    MAX  = df[COL].max()\n",
    "        \n",
    "    grouped_df = df.groupby([COL])['id'].apply(list)\n",
    "    zero = grouped_df[0]\n",
    "    maximum = len(grouped_df[MAX])\n",
    "    \n",
    "    return zero, maximum\n",
    "\n",
    "# Call the function and print the results\n",
    "zero, maximum = Q10_function(Q5_df)\n",
    "print(\"Students scoring zero :\",zero)\n",
    "print(\"Number of students with maximum score :\",maximum)"
   ]
  },
  {
   "cell_type": "markdown",
   "metadata": {
    "hideCode": false,
    "hidePrompt": true
   },
   "source": [
    "### Question 11: Find out who ('id') has scored the maximum combined score in the 'Tuples' and 'Taxonomy' quiz.\n",
    "\n",
    "* Use the `pd.merge()` function.\n",
    "* Call the function you wrote for Question 5 to convert time and remove spaces in columns (will be used in later questions).\n",
    "* Create a new column 'Total_score' which is the sum of the scores of the two quizzes."
   ]
  },
  {
   "cell_type": "code",
   "execution_count": 21,
   "metadata": {
    "hideCode": false,
    "hidePrompt": true
   },
   "outputs": [
    {
     "name": "stdout",
     "output_type": "stream",
     "text": [
      "Max scorer : [10]\n"
     ]
    }
   ],
   "source": [
    "def Q11_function():\n",
    "    \n",
    "    \"\"\"\n",
    "    :type : None\n",
    "    :rtype: Dataframe, int\n",
    "    \"\"\"\n",
    "    COL = 'Total_score'\n",
    "        \n",
    "    df_tup = Q5_function(Q3_function(filenames, 'Tuple'))[1]\n",
    "    df_tax = Q5_function(Q3_function(filenames, 'Taxonomy'))[1]\n",
    "    merged_df = df_tup.merge(df_tax, on='id', how='inner')\n",
    "    merged_df[COL] = merged_df['Grade/20.00'] + merged_df['Grade/21.00']\n",
    "    \n",
    "    maximum = merged_df[merged_df[COL] == merged_df[COL].max()]['id'].values\n",
    "    \n",
    "    return merged_df, maximum\n",
    "    \n",
    "\n",
    "\n",
    "# Call the function and print the results. The DataFrame will be used in subsequent questions\n",
    "Q11_df,max_scorer = Q11_function()\n",
    "print(\"Max scorer :\",max_scorer)"
   ]
  },
  {
   "cell_type": "markdown",
   "metadata": {
    "hideCode": false,
    "hidePrompt": true
   },
   "source": [
    "### Question 12: Use the DataFrame generated in Question 11 and return the list of ids whose total time for both quizzes is less than than 20 minutes.\n",
    "\n",
    "* Sort the list before returning.\n",
    "* Can you code it in one line?"
   ]
  },
  {
   "cell_type": "code",
   "execution_count": 22,
   "metadata": {
    "hideCode": false,
    "hidePrompt": true
   },
   "outputs": [
    {
     "name": "stdout",
     "output_type": "stream",
     "text": [
      "ID of students : [3, 4, 7, 8, 12, 18]\n"
     ]
    }
   ],
   "source": [
    "def Q12_function(df):\n",
    "    \n",
    "    \"\"\"\n",
    "    :type : DataFrame\n",
    "    :rtype: list(int)\n",
    "    \"\"\"\n",
    "    return sorted(list(df[df['time_x'] + df['time_y'] < 1200]['id']))\n",
    "\n",
    "\n",
    "# Call the function and print the results.\n",
    "ids = Q12_function(Q11_df)\n",
    "print(\"ID of students :\",ids)"
   ]
  },
  {
   "cell_type": "markdown",
   "metadata": {
    "hideCode": false,
    "hidePrompt": true
   },
   "source": [
    "### Question 13: Discretize the column 'Grade/45.00' for the DataFrame generated in Question 6 and create a new column. Find the number of people (id) per bin. Return a DataFrame with only the bins and count per bin.\n",
    "\n",
    "*Hints:* \n",
    "* _Use 'cut' and 'groupby'._\n",
    "* _Include the overall average in the groupings._\n",
    "* _You won't need to use 'drop' to drop columns. Use groupby and check the result._\n",
    "* _Use 5 bins_\n",
    "* Don't consider 'Overall Average' row."
   ]
  },
  {
   "cell_type": "code",
   "execution_count": 23,
   "metadata": {
    "hideCode": false,
    "hidePrompt": true
   },
   "outputs": [
    {
     "name": "stdout",
     "output_type": "stream",
     "text": [
      "bin\n",
      "(12.981, 16.8]           [15, 16, 17, 18]\n",
      "(16.8, 20.6]                 [12, 13, 14]\n",
      "(20.6, 24.4]      [5, 6, 7, 8, 9, 10, 11]\n",
      "(24.4, 28.2]                       [3, 4]\n",
      "(28.2, 32.0]                    [0, 1, 2]\n",
      "Name: id, dtype: object\n"
     ]
    }
   ],
   "source": [
    "def Q13_function(df):\n",
    "    \n",
    "    \"\"\"\n",
    "    :type : DataFrame\n",
    "    :rtype: DataFrame\n",
    "    \"\"\"\n",
    "    df = df.drop([19])\n",
    "    df['bin'] = pd.cut(df['Grade/45.00'], 5)\n",
    "    return df.groupby(['bin'])['id'].apply(list)\n",
    "\n",
    "\n",
    "# Call the function and print the results.\n",
    "Q13_df = Q13_function(Q6_df)\n",
    "print(Q13_df)"
   ]
  },
  {
   "cell_type": "markdown",
   "metadata": {
    "hideCode": false,
    "hidePrompt": true
   },
   "source": [
    "### INSTRUCTIONS: Complete unit testing for the remaining functions to check correctness of your code."
   ]
  },
  {
   "cell_type": "code",
   "execution_count": 24,
   "metadata": {
    "hideCode": false,
    "hidePrompt": true
   },
   "outputs": [
    {
     "name": "stderr",
     "output_type": "stream",
     "text": [
      "test_Q01_function (__main__.TestNotebook) ... ok\n",
      "test_Q02_function (__main__.TestNotebook) ... ok\n",
      "test_Q03_function (__main__.TestNotebook) ... ok\n",
      "test_Q04_function (__main__.TestNotebook) ... ok\n",
      "test_Q05_function (__main__.TestNotebook) ... ok\n",
      "test_Q06_function (__main__.TestNotebook) ... ok\n",
      "test_Q07_function (__main__.TestNotebook) ... ok\n",
      "test_Q08_function (__main__.TestNotebook) ... ok\n",
      "test_Q09_function (__main__.TestNotebook) ... ok\n",
      "test_Q10_function (__main__.TestNotebook) ... ok\n",
      "test_Q11_function (__main__.TestNotebook) ... ok\n",
      "test_Q12_function (__main__.TestNotebook) ... ok\n",
      "test_Q13_function (__main__.TestNotebook) ... ok\n",
      "\n",
      "----------------------------------------------------------------------\n",
      "Ran 13 tests in 0.187s\n",
      "\n",
      "OK\n"
     ]
    },
    {
     "data": {
      "text/plain": [
       "<unittest.main.TestProgram at 0x11c701da0>"
      ]
     },
     "execution_count": 24,
     "metadata": {},
     "output_type": "execute_result"
    }
   ],
   "source": [
    "import unittest\n",
    "\n",
    "class TestNotebook(unittest.TestCase):\n",
    "\n",
    "    def test_Q01_function(self):\n",
    "        \n",
    "        ans = ['Python-QUIZ Taxonomy of Python Data Structures (12 min.)-grades.xlsx', \n",
    "               'Python-QUIZ Functions (18 min.)-grades.xlsx', \n",
    "               'Python-QUIZ Coercion (6 min.)-grades.xlsx', \n",
    "               'Python-QUIZ Strings (5 min.)-grades.xlsx', \n",
    "               'Python-QUIZ Lists (10 min.)-grades.xlsx', \n",
    "               'Python-QUIZ Iterations (6 min.)-grades.xlsx', \n",
    "               'Python-QUIZ Sets (7 min)-grades.xlsx', \n",
    "               'Python-QUIZ Exceptions (10 min.)-grades.xlsx', \n",
    "               'Python-QUIZ Dictionaries (10 min.)-grades.xlsx', \n",
    "               'Python-QUIZ Tuples (10 min.)-grades.xlsx', \n",
    "               'Python-QUIZ Conditionals (6 min.)-grades.xlsx']\n",
    "        \n",
    "        result = Q1_function()\n",
    "        \n",
    "        self.assertEqual(ans, result) # Test to extract the filenames from the folder containing all the files \n",
    "        \n",
    "    def test_Q02_function(self):\n",
    "        \n",
    "        ans = 'Python-QUIZ Lists (10 min.)-grades.xlsx'\n",
    "        result = Q2_function(filenames, s = \"Lists\")\n",
    "        \n",
    "        #Path removal handled in the function as the question required the filenames.\n",
    "        self.assertEqual(ans, result) # Test for correct filenames\n",
    "\n",
    "    def test_Q03_function(self):\n",
    "        warnings.simplefilter(\"ignore\")\n",
    "        \n",
    "        ans = pd.read_excel('./data_raw/Python-QUIZ Lists (10 min.)-grades.xlsx')\n",
    "        result = Q3_function(filenames, s = \"Lists\")\n",
    "        \n",
    "        pd.testing.assert_frame_equal(ans, result) # Test for correct dataframe\n",
    "        \n",
    "    def test_Q04_function(self):\n",
    "        \n",
    "        cols_ans=['State', 'Started on', 'Completed', 'Time taken', 'Grade/45.00', 'Q. 1 /5.00', \n",
    "                  'Q. 2 /10.00', 'Q. 3 /6.00', 'Q. 4 /6.00', 'Q. 5 /12.00', 'Q. 6 /6.00',  'id']\n",
    "        subset_cols_ans= [\"id\", \"Time taken\", \"Grade/45.00\", \"Q. 1 /5.00\", \"Q. 2 /10.00\", \"Q. 3 /6.00\", \n",
    "                          \"Q. 4 /6.00\", \"Q. 5 /12.00\", \"Q. 6 /6.00\"]\n",
    "        top_ans=10\n",
    "        \n",
    "        cols_result,subset_result,top_result=Q4_function(functions_df)\n",
    "\n",
    "        self.assertEqual(cols_ans,list(cols_result))\n",
    "        self.assertEqual(subset_cols_ans,list(subset_result.columns))\n",
    "        self.assertEqual(top_ans,len(top_result))\n",
    "        \n",
    "    def test_Q05_function(self):\n",
    "        \n",
    "        _df = pd.read_excel('./data_raw/Python-QUIZ Functions (18 min.)-grades.xlsx')\n",
    "        \n",
    "        _Q4_df = Q4_function(functions_df)[1]\n",
    "        test_id = 1\n",
    "        time = _df['Time taken'][test_id].split(' ')\n",
    "        \n",
    "        ans2 = int(time[0])*60 + int(time[2])\n",
    "        ans1 = list(_Q4_df.dtypes.values)\n",
    "        \n",
    "        result1, test_df = Q5_function(_Q4_df)\n",
    "        result2 = test_df['time'][test_id]\n",
    "        \n",
    "        self.assertEqual(ans1, result1) # Test for column_types\n",
    "        self.assertEqual(ans2, result2) # Test to check 'Time taken' is converted to 'time' in seconds\n",
    "    \n",
    "    def test_Q06_function(self):\n",
    "        warnings.simplefilter(\"ignore\")\n",
    "        \n",
    "        _, _Q5_df = Q5_function(Q4_function(functions_df)[1])\n",
    "        test_df = Q6_function(_Q5_df)\n",
    "        \n",
    "        self.assertEqual(False, test_df.duplicated().any()) # Test to check for duplicates\n",
    "        self.assertEqual(False, test_df.isnull().values.any()) # Test to check for NaN's\n",
    "        self.assertEqual(1125.37, round(test_df['time'][19], 2)) # Test for the row with column means\n",
    "    \n",
    "    def test_Q07_function(self):\n",
    "        \n",
    "        ans=(14.83,2.19,13.46,14.66,16.62,18.5,10.83) \n",
    "        result=Q7_function(file=\"Exceptions\")\n",
    "        self.assertEqual(ans, result)\n",
    "    \n",
    "    def test_Q08_function(self):\n",
    "        pass\n",
    "    \n",
    "    def test_Q09_function(self):\n",
    "        _df = pd.read_excel('./data_raw/Python-QUIZ Functions (18 min.)-grades.xlsx')\n",
    "        shape = Q9_function(file='Functions')\n",
    "        \n",
    "        self.assertEqual(_df.shape, shape) # Test to check for shape of dataframe\n",
    "    \n",
    "    def test_Q10_function(self):\n",
    "        _, _Q5_df = Q5_function(Q4_function(functions_df)[1])\n",
    "        ans = ([9, 10, 13, 17, 18], 2)\n",
    "        result = Q10_function(_Q5_df)\n",
    "        \n",
    "        self.assertEqual(ans, result) # Test to check for students scoring 0 and no. of student scoring max marks\n",
    "        \n",
    "    def test_Q11_function(self):\n",
    "        ans = [10]\n",
    "        result = Q11_function()[1]\n",
    "        \n",
    "        self.assertEqual(ans, result) # Test to check for max_scorer for Tupe and Taxonomy quizzes.\n",
    "    \n",
    "    def test_Q12_function(self):\n",
    "        ans=[3, 4, 7, 8, 12, 18]   \n",
    "        result=Q12_function(Q11_df)\n",
    "        self.assertEqual(ans, result)\n",
    "        \n",
    "    def test_Q13_function(self):\n",
    "        ans = [[15, 16, 17, 18], [12, 13, 14], [5, 6, 7, 8, 9, 10, 11], [3, 4], [0, 1, 2]]\n",
    "        temp = Q13_function(Q6_df)\n",
    "        result = [temp.iloc[x] for x in range(len(temp))]\n",
    "        \n",
    "        for x in range(len(ans)):\n",
    "            self.assertEqual(sum(result[x]), sum(ans[x]))\n",
    "\n",
    "        \n",
    "unittest.main(argv=[''], verbosity=2, exit=False)"
   ]
  }
 ],
 "metadata": {
  "celltoolbar": "Hide code",
  "hide_code_all_hidden": true,
  "kernelspec": {
   "display_name": "Python 3",
   "language": "python",
   "name": "python3"
  },
  "language_info": {
   "codemirror_mode": {
    "name": "ipython",
    "version": 3
   },
   "file_extension": ".py",
   "mimetype": "text/x-python",
   "name": "python",
   "nbconvert_exporter": "python",
   "pygments_lexer": "ipython3",
   "version": "3.6.5"
  }
 },
 "nbformat": 4,
 "nbformat_minor": 2
}
